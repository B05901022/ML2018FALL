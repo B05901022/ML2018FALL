{
 "cells": [
  {
   "cell_type": "code",
   "execution_count": 123,
   "metadata": {},
   "outputs": [],
   "source": [
    "import numpy as np"
   ]
  },
  {
   "cell_type": "code",
   "execution_count": 124,
   "metadata": {},
   "outputs": [],
   "source": [
    "samples = [np.array([1,2,3]), np.array([4,8,5]), np.array([3,12,9]), np.array([1,8,5]), np.array([5,14,2]), np.array([7,4,1]), np.array([9,8,9]), np.array([3,8,1]), np.array([11,5,6]), np.array([10,11,7])]"
   ]
  },
  {
   "cell_type": "code",
   "execution_count": 125,
   "metadata": {},
   "outputs": [],
   "source": [
    "samples = [i.reshape(3,1) for i in samples]"
   ]
  },
  {
   "cell_type": "code",
   "execution_count": 126,
   "metadata": {},
   "outputs": [
    {
     "data": {
      "text/plain": [
       "[array([[1],\n",
       "        [2],\n",
       "        [3]]), array([[4],\n",
       "        [8],\n",
       "        [5]]), array([[ 3],\n",
       "        [12],\n",
       "        [ 9]]), array([[1],\n",
       "        [8],\n",
       "        [5]]), array([[ 5],\n",
       "        [14],\n",
       "        [ 2]]), array([[7],\n",
       "        [4],\n",
       "        [1]]), array([[9],\n",
       "        [8],\n",
       "        [9]]), array([[3],\n",
       "        [8],\n",
       "        [1]]), array([[11],\n",
       "        [ 5],\n",
       "        [ 6]]), array([[10],\n",
       "        [11],\n",
       "        [ 7]])]"
      ]
     },
     "execution_count": 126,
     "metadata": {},
     "output_type": "execute_result"
    }
   ],
   "source": [
    "samples"
   ]
  },
  {
   "cell_type": "code",
   "execution_count": 127,
   "metadata": {},
   "outputs": [],
   "source": [
    "samples = np.array(samples)"
   ]
  },
  {
   "cell_type": "code",
   "execution_count": 128,
   "metadata": {},
   "outputs": [
    {
     "data": {
      "text/plain": [
       "array([[[ 1],\n",
       "        [ 2],\n",
       "        [ 3]],\n",
       "\n",
       "       [[ 4],\n",
       "        [ 8],\n",
       "        [ 5]],\n",
       "\n",
       "       [[ 3],\n",
       "        [12],\n",
       "        [ 9]],\n",
       "\n",
       "       [[ 1],\n",
       "        [ 8],\n",
       "        [ 5]],\n",
       "\n",
       "       [[ 5],\n",
       "        [14],\n",
       "        [ 2]],\n",
       "\n",
       "       [[ 7],\n",
       "        [ 4],\n",
       "        [ 1]],\n",
       "\n",
       "       [[ 9],\n",
       "        [ 8],\n",
       "        [ 9]],\n",
       "\n",
       "       [[ 3],\n",
       "        [ 8],\n",
       "        [ 1]],\n",
       "\n",
       "       [[11],\n",
       "        [ 5],\n",
       "        [ 6]],\n",
       "\n",
       "       [[10],\n",
       "        [11],\n",
       "        [ 7]]])"
      ]
     },
     "execution_count": 128,
     "metadata": {},
     "output_type": "execute_result"
    }
   ],
   "source": [
    "samples"
   ]
  },
  {
   "cell_type": "code",
   "execution_count": 129,
   "metadata": {},
   "outputs": [],
   "source": [
    "samples_mean = [np.mean(samples[:,i]) for i in range(3)]"
   ]
  },
  {
   "cell_type": "code",
   "execution_count": 130,
   "metadata": {},
   "outputs": [],
   "source": [
    "samples_mean = np.array(samples_mean).reshape(3,1)"
   ]
  },
  {
   "cell_type": "code",
   "execution_count": 131,
   "metadata": {},
   "outputs": [
    {
     "data": {
      "text/plain": [
       "array([[5.4],\n",
       "       [8. ],\n",
       "       [4.8]])"
      ]
     },
     "execution_count": 131,
     "metadata": {},
     "output_type": "execute_result"
    }
   ],
   "source": [
    "samples_mean"
   ]
  },
  {
   "cell_type": "code",
   "execution_count": 132,
   "metadata": {},
   "outputs": [
    {
     "data": {
      "text/plain": [
       "array([[12.04,  0.5 ,  3.28],\n",
       "       [ 0.5 , 12.2 ,  2.9 ],\n",
       "       [ 3.28,  2.9 ,  8.16]])"
      ]
     },
     "execution_count": 132,
     "metadata": {},
     "output_type": "execute_result"
    }
   ],
   "source": [
    "covariance = 0\n",
    "for i in range(10):\n",
    "    covariance += np.dot(samples[i]-samples_mean,(samples[i]-samples_mean).T)\n",
    "covariance *= 0.1\n",
    "covariance"
   ]
  },
  {
   "cell_type": "code",
   "execution_count": 133,
   "metadata": {},
   "outputs": [
    {
     "data": {
      "text/plain": [
       "array([ 5.47203291, 11.63052369, 15.2974434 ])"
      ]
     },
     "execution_count": 133,
     "metadata": {},
     "output_type": "execute_result"
    }
   ],
   "source": [
    "np.linalg.eigvals(covariance)"
   ]
  },
  {
   "cell_type": "code",
   "execution_count": 134,
   "metadata": {},
   "outputs": [
    {
     "data": {
      "text/plain": [
       "(array([ 5.47203291, 11.63052369, 15.2974434 ]),\n",
       " array([[ 0.39985541, -0.67817891, -0.6165947 ],\n",
       "        [ 0.33758926,  0.73439013, -0.58881629],\n",
       "        [-0.85214385, -0.02728563, -0.52259579]]))"
      ]
     },
     "execution_count": 134,
     "metadata": {},
     "output_type": "execute_result"
    }
   ],
   "source": [
    "np.linalg.eig(covariance)"
   ]
  },
  {
   "cell_type": "code",
   "execution_count": 135,
   "metadata": {},
   "outputs": [
    {
     "data": {
      "text/plain": [
       "[array([ 5.47203291, 11.63052369, 15.2974434 ]),\n",
       " array([[ 0.39985541, -0.67817891, -0.6165947 ],\n",
       "        [ 0.33758926,  0.73439013, -0.58881629],\n",
       "        [-0.85214385, -0.02728563, -0.52259579]])]"
      ]
     },
     "execution_count": 135,
     "metadata": {},
     "output_type": "execute_result"
    }
   ],
   "source": [
    "PCA_list = list(np.linalg.eig(covariance))\n",
    "PCA_list"
   ]
  },
  {
   "cell_type": "code",
   "execution_count": 136,
   "metadata": {},
   "outputs": [
    {
     "data": {
      "text/plain": [
       "[Matrix([\n",
       " [ 0.399855412733346],\n",
       " [-0.678178905920313],\n",
       " [-0.616594697084375]]), Matrix([\n",
       " [ 0.337589263453302],\n",
       " [ 0.734390131950119],\n",
       " [-0.588816289937145]]), Matrix([\n",
       " [ -0.852143848249169],\n",
       " [-0.0272856309990092],\n",
       " [ -0.522595786657416]])]"
      ]
     },
     "execution_count": 136,
     "metadata": {},
     "output_type": "execute_result"
    }
   ],
   "source": [
    "import sympy\n",
    "from sympy import Matrix\n",
    "PCA_list2 = [Matrix(i) for i in PCA_list[1].tolist()]\n",
    "PCA_list2"
   ]
  },
  {
   "cell_type": "code",
   "execution_count": 137,
   "metadata": {},
   "outputs": [
    {
     "data": {
      "text/plain": [
       "array([[ 0.39985541, -0.67817891, -0.6165947 ],\n",
       "       [ 0.33758926,  0.73439013, -0.58881629],\n",
       "       [-0.85214385, -0.02728563, -0.52259579]])"
      ]
     },
     "execution_count": 137,
     "metadata": {},
     "output_type": "execute_result"
    }
   ],
   "source": [
    "PCA_array=np.array(np.array(sympy.GramSchmidt(PCA_list2, True)).astype('float64'))\n",
    "PCA_array"
   ]
  },
  {
   "cell_type": "code",
   "execution_count": 138,
   "metadata": {},
   "outputs": [
    {
     "name": "stdout",
     "output_type": "stream",
     "text": [
      "[[-2.25104047]\n",
      " [-1.37323947]\n",
      " [ 7.18658682]]\n",
      "\n",
      "[[1]\n",
      " [2]\n",
      " [3]]\n",
      "\n",
      "################################################\n",
      "[[-0.73022635]\n",
      " [ 0.94399334]\n",
      " [ 0.75871342]]\n",
      "\n",
      "[[4]\n",
      " [8]\n",
      " [5]]\n",
      "\n",
      "################################################\n",
      "[[-3.1883001 ]\n",
      " [ 4.45059025]\n",
      " [-3.07034019]]\n",
      "\n",
      "[[ 3]\n",
      " [12]\n",
      " [ 9]]\n",
      "\n",
      "################################################\n",
      "[[-1.92979259]\n",
      " [ 2.97853006]\n",
      " [ 2.60849751]]\n",
      "\n",
      "[[1]\n",
      " [8]\n",
      " [5]]\n",
      "\n",
      "################################################\n",
      "[[ 4.25159619]\n",
      " [ 4.75401212]\n",
      " [-1.82299166]]\n",
      "\n",
      "[[ 5]\n",
      " [14]\n",
      " [ 2]]\n",
      "\n",
      "################################################\n",
      "[[ 2.52755823]\n",
      " [-3.91896138]\n",
      " [ 3.35457763]]\n",
      "\n",
      "[[7]\n",
      " [4]\n",
      " [1]]\n",
      "\n",
      "################################################\n",
      "[[-2.13952468]\n",
      " [-2.55604371]\n",
      " [-4.41464321]]\n",
      "\n",
      "[[9]\n",
      " [8]\n",
      " [9]]\n",
      "\n",
      "################################################\n",
      "[[2.27849363]\n",
      " [1.73131477]\n",
      " [3.46569126]]\n",
      "\n",
      "[[3]\n",
      " [8]\n",
      " [1]]\n",
      "\n",
      "################################################\n",
      "[[ 0.2038499 ]\n",
      " [-6.03371503]\n",
      " [-2.31359638]]\n",
      "\n",
      "[[11]\n",
      " [ 5]\n",
      " [ 6]]\n",
      "\n",
      "################################################\n",
      "[[ 0.97738622]\n",
      " [-0.97648096]\n",
      " [-5.75249521]]\n",
      "\n",
      "[[10]\n",
      " [11]\n",
      " [ 7]]\n",
      "\n",
      "################################################\n"
     ]
    }
   ],
   "source": [
    "record_list = []\n",
    "for i in range(10):\n",
    "    PC = np.dot(PCA_array.T,samples[i]-samples_mean)\n",
    "    record_list.append(PC)\n",
    "    print(PC)\n",
    "    print()\n",
    "    print(samples[i])\n",
    "    print()\n",
    "    print('################################################')"
   ]
  },
  {
   "cell_type": "code",
   "execution_count": 140,
   "metadata": {},
   "outputs": [
    {
     "data": {
      "text/plain": [
       "[array([[-2.25104047],\n",
       "        [-1.37323947],\n",
       "        [ 7.18658682]]), array([[-0.73022635],\n",
       "        [ 0.94399334],\n",
       "        [ 0.75871342]]), array([[-3.1883001 ],\n",
       "        [ 4.45059025],\n",
       "        [-3.07034019]]), array([[-1.92979259],\n",
       "        [ 2.97853006],\n",
       "        [ 2.60849751]]), array([[ 4.25159619],\n",
       "        [ 4.75401212],\n",
       "        [-1.82299166]]), array([[ 2.52755823],\n",
       "        [-3.91896138],\n",
       "        [ 3.35457763]]), array([[-2.13952468],\n",
       "        [-2.55604371],\n",
       "        [-4.41464321]]), array([[2.27849363],\n",
       "        [1.73131477],\n",
       "        [3.46569126]]), array([[ 0.2038499 ],\n",
       "        [-6.03371503],\n",
       "        [-2.31359638]]), array([[ 0.97738622],\n",
       "        [-0.97648096],\n",
       "        [-5.75249521]])]"
      ]
     },
     "execution_count": 140,
     "metadata": {},
     "output_type": "execute_result"
    }
   ],
   "source": [
    "record_list"
   ]
  },
  {
   "cell_type": "raw",
   "metadata": {},
   "source": [
    "new_PCA_array = PCA_array\n",
    "new_PCA_array[:,0] = 0\n",
    "new_PCA_array"
   ]
  },
  {
   "cell_type": "code",
   "execution_count": 146,
   "metadata": {},
   "outputs": [
    {
     "name": "stdout",
     "output_type": "stream",
     "text": [
      "[[1.90009072]\n",
      " [2.75992709]\n",
      " [1.08178971]]\n",
      "\n",
      "[[-2.25104047]\n",
      " [-1.37323947]\n",
      " [ 7.18658682]]\n",
      "\n",
      "reconstruction error:2.251040\n",
      "################################################\n",
      "[[4.29198496]\n",
      " [8.24651657]\n",
      " [4.37774211]]\n",
      "\n",
      "[[-0.73022635]\n",
      " [ 0.94399334]\n",
      " [ 0.75871342]]\n",
      "\n",
      "reconstruction error:0.730226\n",
      "################################################\n",
      "[[ 4.27485905]\n",
      " [13.07633588]\n",
      " [ 6.28310968]]\n",
      "\n",
      "[[-3.1883001 ]\n",
      " [ 4.45059025]\n",
      " [-3.07034019]]\n",
      "\n",
      "reconstruction error:3.188300\n",
      "################################################\n",
      "[[1.77163801]\n",
      " [8.65147726]\n",
      " [3.35553912]]\n",
      "\n",
      "[[-1.92979259]\n",
      " [ 2.97853006]\n",
      " [ 2.60849751]]\n",
      "\n",
      "reconstruction error:1.929793\n",
      "################################################\n",
      "[[ 3.29997625]\n",
      " [12.56470677]\n",
      " [ 5.62297154]]\n",
      "\n",
      "[[ 4.25159619]\n",
      " [ 4.75401212]\n",
      " [-1.82299166]]\n",
      "\n",
      "reconstruction error:4.251596\n",
      "################################################\n",
      "[[5.98934216]\n",
      " [3.14672348]\n",
      " [3.1538432 ]]\n",
      "\n",
      "[[ 2.52755823]\n",
      " [-3.91896138]\n",
      " [ 3.35457763]]\n",
      "\n",
      "reconstruction error:2.527558\n",
      "################################################\n",
      "[[9.85550052]\n",
      " [8.72228056]\n",
      " [7.17681721]]\n",
      "\n",
      "[[-2.13952468]\n",
      " [-2.55604371]\n",
      " [-4.41464321]]\n",
      "\n",
      "reconstruction error:2.139525\n",
      "################################################\n",
      "[[2.08893199]\n",
      " [7.23080501]\n",
      " [2.94160433]]\n",
      "\n",
      "[[2.27849363]\n",
      " [1.73131477]\n",
      " [3.46569126]]\n",
      "\n",
      "reconstruction error:2.278494\n",
      "################################################\n",
      "[[10.91848951]\n",
      " [ 4.93118246]\n",
      " [ 6.17370944]]\n",
      "\n",
      "[[ 0.2038499 ]\n",
      " [-6.03371503]\n",
      " [-2.31359638]]\n",
      "\n",
      "reconstruction error:0.203850\n",
      "################################################\n",
      "[[ 9.60918683]\n",
      " [10.6700449 ]\n",
      " [ 7.83287366]]\n",
      "\n",
      "[[ 0.97738622]\n",
      " [-0.97648096]\n",
      " [-5.75249521]]\n",
      "\n",
      "reconstruction error:0.977386\n",
      "################################################\n"
     ]
    }
   ],
   "source": [
    "record_list2 = []\n",
    "for i in range(10):\n",
    "    reconstruct = np.dot(new_PCA_array,record_list[i])+samples_mean\n",
    "    record_list.append(reconstruct)\n",
    "    reconstruction_error_sqr = np.dot((reconstruct-samples[i]).T, reconstruct-samples[i])\n",
    "    print(reconstruct)\n",
    "    print()\n",
    "    print(record_list[i])\n",
    "    print()\n",
    "    print(\"reconstruction error:%f\"%reconstruction_error_sqr**0.5)\n",
    "    print('################################################')"
   ]
  },
  {
   "cell_type": "code",
   "execution_count": null,
   "metadata": {},
   "outputs": [],
   "source": []
  }
 ],
 "metadata": {
  "kernelspec": {
   "display_name": "Python 3",
   "language": "python",
   "name": "python3"
  },
  "language_info": {
   "codemirror_mode": {
    "name": "ipython",
    "version": 3
   },
   "file_extension": ".py",
   "mimetype": "text/x-python",
   "name": "python",
   "nbconvert_exporter": "python",
   "pygments_lexer": "ipython3",
   "version": "3.6.5"
  }
 },
 "nbformat": 4,
 "nbformat_minor": 2
}
